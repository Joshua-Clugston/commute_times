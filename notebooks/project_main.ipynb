{
 "cells": [
  {
   "cell_type": "code",
   "execution_count": null,
   "id": "a3d7ce9f",
   "metadata": {},
   "outputs": [],
   "source": [
    "import pandas as pd\n",
    "import numpy as np\n",
    "import re\n",
    "import matplotlib.pyplot as plt\n",
    "import seaborn as sns"
   ]
  },
  {
   "cell_type": "code",
   "execution_count": null,
   "id": "a6be0d3e",
   "metadata": {
    "scrolled": true
   },
   "outputs": [],
   "source": [
    "age  = pd.read_csv('../data/cleaned_data/age.csv')\n",
    "comm = pd.read_csv('../data/cleaned_data/comm.csv')\n",
    "\n",
    "age  = age.set_index('county')\n",
    "comm = comm.set_index('county')"
   ]
  },
  {
   "cell_type": "code",
   "execution_count": null,
   "id": "96fc34ac",
   "metadata": {
    "scrolled": true
   },
   "outputs": [],
   "source": [
    "age"
   ]
  },
  {
   "cell_type": "code",
   "execution_count": null,
   "id": "c17baa47",
   "metadata": {
    "scrolled": true
   },
   "outputs": [],
   "source": [
    "comm"
   ]
  },
  {
   "cell_type": "code",
   "execution_count": null,
   "id": "8ab0168b",
   "metadata": {},
   "outputs": [],
   "source": [
    "data = pd.merge(comm,age,'outer',on = ['county','workers','drove_alone','carpooled',\n",
    "                                      'pub_transit','state','year'])"
   ]
  },
  {
   "cell_type": "code",
   "execution_count": null,
   "id": "cfea7c85",
   "metadata": {},
   "outputs": [],
   "source": [
    "data"
   ]
  },
  {
   "cell_type": "code",
   "execution_count": null,
   "id": "e70d4673",
   "metadata": {},
   "outputs": [],
   "source": [
    "pattern = r'mean'\n",
    "keep = ['workers']\n",
    "for col in data.columns:\n",
    "    if re.search(pattern,col):\n",
    "        keep.append(col)"
   ]
  },
  {
   "cell_type": "code",
   "execution_count": null,
   "id": "4f543606",
   "metadata": {},
   "outputs": [],
   "source": [
    "avg_comm = data[keep].groupby(data.index).mean()\n",
    "avg_comm"
   ]
  },
  {
   "cell_type": "code",
   "execution_count": null,
   "id": "7359fd2d",
   "metadata": {},
   "outputs": [],
   "source": [
    "avg_comm.sort_values('mean_min', ascending = False)"
   ]
  },
  {
   "cell_type": "code",
   "execution_count": null,
   "id": "1fb78667",
   "metadata": {},
   "outputs": [],
   "source": [
    "avg_comm.loc[avg_comm['pub_transit_mean_min'] < avg_comm['mean_min']].sort_values('pub_transit_mean_min')"
   ]
  },
  {
   "cell_type": "code",
   "execution_count": null,
   "id": "394d7434",
   "metadata": {},
   "outputs": [],
   "source": [
    "comm.loc['Lapeer County, Michigan']"
   ]
  },
  {
   "cell_type": "code",
   "execution_count": null,
   "id": "aae063ba",
   "metadata": {},
   "outputs": [],
   "source": [
    "avg_comm.corr()"
   ]
  },
  {
   "cell_type": "code",
   "execution_count": null,
   "id": "a652b090",
   "metadata": {},
   "outputs": [],
   "source": [
    "def heatmap(df, center = 0):\n",
    "    fig, ax = plt.subplots(figsize=(6, 6))\n",
    "\n",
    "    corr = df.corr(numeric_only = True)\n",
    "    # create a custom diverging colormap\n",
    "    cmap = sns.diverging_palette(220, 10, as_cmap=True)\n",
    "\n",
    "    # Generate a mask for the upper triangle (since a correlation matrix is diagonally symmetric)\n",
    "    mask = np.zeros_like(corr, dtype=bool)\n",
    "    mask[np.triu_indices_from(mask)] = True\n",
    "\n",
    "    # Draw the heatmap with the mask and correct aspect ratio\n",
    "    sns.heatmap(corr, cmap=cmap, mask = mask, center=center,\n",
    "                square=True, linewidths=.5, cbar_kws={\"shrink\": .5});"
   ]
  },
  {
   "cell_type": "code",
   "execution_count": null,
   "id": "c5562c63",
   "metadata": {},
   "outputs": [],
   "source": [
    "heatmap(avg_comm, center = 0.4)"
   ]
  },
  {
   "cell_type": "markdown",
   "id": "ed949daa",
   "metadata": {},
   "source": [
    "### The mean travel time is heavily correlated with the mean travel time of those who drive alone! This may be because the vast majority of people who commute drive alone, meaning this group of people has the greatest impact on the overall average travel time."
   ]
  },
  {
   "cell_type": "code",
   "execution_count": null,
   "id": "eb507d35",
   "metadata": {},
   "outputs": [],
   "source": [
    "pattern2 = r'median'\n",
    "keep = ['workers']\n",
    "\n",
    "for col in data.columns:\n",
    "    if re.search(pattern2,col):\n",
    "        keep.append(col)"
   ]
  },
  {
   "cell_type": "code",
   "execution_count": null,
   "id": "95c28c6a",
   "metadata": {},
   "outputs": [],
   "source": [
    "avg_age = data[keep].groupby(data.index).mean()\n",
    "#avg_age"
   ]
  },
  {
   "cell_type": "code",
   "execution_count": null,
   "id": "e00dd5e3",
   "metadata": {},
   "outputs": [],
   "source": [
    "avg_age.corr()"
   ]
  },
  {
   "cell_type": "code",
   "execution_count": null,
   "id": "3941e56f",
   "metadata": {},
   "outputs": [],
   "source": [
    "heatmap(avg_age, center = 0.1)"
   ]
  },
  {
   "cell_type": "markdown",
   "id": "e77324cb",
   "metadata": {},
   "source": [
    "### Likewise, median age is heavily correlated with the median age of those who drive alone."
   ]
  },
  {
   "cell_type": "code",
   "execution_count": null,
   "id": "2de1e306",
   "metadata": {},
   "outputs": [],
   "source": [
    "keep = ['workers']\n",
    "for col in data.columns:\n",
    "    if re.search(pattern,col) or re.search(pattern2,col):\n",
    "        keep.append(col)"
   ]
  },
  {
   "cell_type": "code",
   "execution_count": null,
   "id": "68d4a8da",
   "metadata": {},
   "outputs": [],
   "source": [
    "data_avg = data[keep]"
   ]
  },
  {
   "cell_type": "code",
   "execution_count": null,
   "id": "6f154585",
   "metadata": {
    "scrolled": true
   },
   "outputs": [],
   "source": [
    "data_avg"
   ]
  },
  {
   "cell_type": "code",
   "execution_count": null,
   "id": "9f69ab2e",
   "metadata": {},
   "outputs": [],
   "source": [
    "data_avg.corr()"
   ]
  },
  {
   "cell_type": "code",
   "execution_count": null,
   "id": "059ddb90",
   "metadata": {},
   "outputs": [],
   "source": [
    "heatmap(data_avg, center = 0.1)"
   ]
  },
  {
   "cell_type": "markdown",
   "id": "ca8832ac",
   "metadata": {},
   "source": [
    "### From this, it looks like there isn't a correlation between age and commute time.\n",
    "\n",
    "Let's investigate that further."
   ]
  },
  {
   "cell_type": "code",
   "execution_count": null,
   "id": "11d33321",
   "metadata": {},
   "outputs": [],
   "source": [
    "age.describe().astype(int)"
   ]
  },
  {
   "cell_type": "code",
   "execution_count": null,
   "id": "e9f5558e",
   "metadata": {},
   "outputs": [],
   "source": [
    "def heatmap_2(data, category, center = 0.1):\n",
    "    pattern = re.compile(category)\n",
    "    keep = ['workers']\n",
    "    \n",
    "    for col in data.columns:\n",
    "        if re.search(pattern,col):\n",
    "            keep.append(col)\n",
    "    #end\n",
    "    \n",
    "    data = data[keep]\n",
    "    \n",
    "    data_corr = data.corr().loc[category+'_age_16_19':category+'_age_60_and_over',\n",
    "                                category+'_10_min':category+'_60_min']\n",
    "    cmap = sns.diverging_palette(220, 10, as_cmap=True)\n",
    "    \n",
    "    sns.heatmap(data_corr, cmap = cmap, center = center)"
   ]
  },
  {
   "cell_type": "code",
   "execution_count": null,
   "id": "5934137a",
   "metadata": {},
   "outputs": [],
   "source": [
    "heatmap_2(data,'drove_alone', center = .9)"
   ]
  },
  {
   "cell_type": "code",
   "execution_count": null,
   "id": "7d94d7f8",
   "metadata": {},
   "outputs": [],
   "source": [
    "heatmap_2(data,'carpooled',center=0.9)"
   ]
  },
  {
   "cell_type": "code",
   "execution_count": null,
   "id": "4063e050",
   "metadata": {},
   "outputs": [],
   "source": [
    "heatmap_2(data,'pub_transit',center=.9)"
   ]
  },
  {
   "cell_type": "code",
   "execution_count": null,
   "id": "c6e57435",
   "metadata": {},
   "outputs": [],
   "source": [
    "drove = r'drove_alone'\n",
    "keep = ['workers']\n",
    "\n",
    "for col in data.columns:\n",
    "    if re.search(drove,col):\n",
    "        keep.append(col)"
   ]
  },
  {
   "cell_type": "code",
   "execution_count": null,
   "id": "a51ed510",
   "metadata": {
    "scrolled": true
   },
   "outputs": [],
   "source": [
    "data[keep].describe().astype(int)"
   ]
  },
  {
   "cell_type": "code",
   "execution_count": null,
   "id": "21a80ecd",
   "metadata": {
    "scrolled": true
   },
   "outputs": [],
   "source": [
    "alone = data[keep]\n",
    "alone"
   ]
  },
  {
   "cell_type": "code",
   "execution_count": null,
   "id": "d9e5e325",
   "metadata": {
    "scrolled": true
   },
   "outputs": [],
   "source": [
    "alone_corr = alone.corr().loc['drove_alone_age_16_19':'drove_alone_age_60_and_over',\n",
    "                              'drove_alone_10_min':'drove_alone_60_min']\n",
    "alone_corr"
   ]
  },
  {
   "cell_type": "code",
   "execution_count": null,
   "id": "fc3427b9",
   "metadata": {
    "scrolled": true
   },
   "outputs": [],
   "source": [
    "heatmap(alone, center = .5)"
   ]
  },
  {
   "cell_type": "code",
   "execution_count": null,
   "id": "90d024b5",
   "metadata": {},
   "outputs": [],
   "source": [
    "sns.heatmap(alone_corr, cmap = sns.diverging_palette(220, 10, as_cmap=True), center = .9);"
   ]
  },
  {
   "cell_type": "code",
   "execution_count": null,
   "id": "2341df62",
   "metadata": {},
   "outputs": [],
   "source": [
    "drove = r'carpool'\n",
    "keep = ['workers']\n",
    "\n",
    "for col in data.columns:\n",
    "    if re.search(drove,col):\n",
    "        keep.append(col)\n",
    "#end\n",
    "\n",
    "carpool = data[keep]"
   ]
  },
  {
   "cell_type": "code",
   "execution_count": null,
   "id": "3f57e1e9",
   "metadata": {},
   "outputs": [],
   "source": [
    "carpool"
   ]
  },
  {
   "cell_type": "code",
   "execution_count": null,
   "id": "b7b22c7b",
   "metadata": {},
   "outputs": [],
   "source": [
    "carpool.corr()"
   ]
  },
  {
   "cell_type": "code",
   "execution_count": null,
   "id": "fb63d9ca",
   "metadata": {},
   "outputs": [],
   "source": [
    "carpool_corr = carpool.corr().loc['carpooled_age_16_19':'carpooled_age_60_and_over',\n",
    "                              'carpooled_10_min':'carpooled_60_min']\n",
    "carpool_corr"
   ]
  },
  {
   "cell_type": "code",
   "execution_count": null,
   "id": "3db2f80f",
   "metadata": {},
   "outputs": [],
   "source": [
    "sns.heatmap(carpool_corr, cmap = sns.diverging_palette(220, 10, as_cmap=True), center = .885);"
   ]
  },
  {
   "cell_type": "code",
   "execution_count": null,
   "id": "e4648a43",
   "metadata": {},
   "outputs": [],
   "source": [
    "pattern = r'pub_'\n",
    "keep = ['workers']\n",
    "\n",
    "for col in data.columns:\n",
    "    if re.search(pattern,col):\n",
    "        keep.append(col)\n",
    "#end\n",
    "\n",
    "pub_transit = data[keep]\n",
    "\n",
    "pub_transit_corr = pub_transit.corr().loc['pub_transit_age_16_19':'pub_transit_age_60_and_over',\n",
    "                                          'pub_transit_10_min':'pub_transit_60_min']\n",
    "sns.heatmap(pub_transit_corr, cmap = sns.diverging_palette(220, 10, as_cmap=True), center = .9);"
   ]
  },
  {
   "cell_type": "code",
   "execution_count": null,
   "id": "0c988201",
   "metadata": {},
   "outputs": [],
   "source": [
    "pub_transit_corr"
   ]
  },
  {
   "cell_type": "markdown",
   "id": "2359d169",
   "metadata": {},
   "source": [
    "### In the end, it doesn't look like there's a clear correlation between age and commute time.\n",
    "\n",
    "## Next, I want to see how stats changed over years."
   ]
  },
  {
   "cell_type": "code",
   "execution_count": null,
   "id": "b87e6a62",
   "metadata": {
    "scrolled": true
   },
   "outputs": [],
   "source": [
    "years_avg = data.groupby('year').mean(numeric_only = True).round(2)\n",
    "years_avg"
   ]
  },
  {
   "cell_type": "code",
   "execution_count": null,
   "id": "bc7e4be2",
   "metadata": {},
   "outputs": [],
   "source": [
    "pattern  = r'mean'\n",
    "#pattern2 = r'median'\n",
    "keep = ['workers']\n",
    "\n",
    "for col in years_avg.columns:\n",
    "    if re.search(pattern,col):# or re.search(pattern2,col):\n",
    "        keep.append(col)\n",
    "#end"
   ]
  },
  {
   "cell_type": "code",
   "execution_count": null,
   "id": "248bf230",
   "metadata": {
    "scrolled": true
   },
   "outputs": [],
   "source": [
    "year_times = years_avg[keep]\n",
    "year_times"
   ]
  },
  {
   "cell_type": "code",
   "execution_count": null,
   "id": "b3297cd4",
   "metadata": {},
   "outputs": [],
   "source": [
    "fig, ax = plt.subplots(1, figsize=(20,12))\n",
    "\n",
    "\n",
    "for col in year_times.columns:\n",
    "    if col != 'workers':\n",
    "        line, = plt.plot(year_times[col], marker='o', label = str.capitalize(col.replace('_',' ').replace('min','time')),\n",
    "                         linewidth = 3)\n",
    "        plt.legend(handles = [plt.plot([],ls=\"-\", color=line.get_color())[0]],\n",
    "                   labels=[line.get_label()])\n",
    "#end\n",
    "\n",
    "plt.xlabel('Year', size = 20)\n",
    "plt.ylabel('Travel Time (min)', size = 20)\n",
    "ax.legend(labels = labels, handles  = \"-\", \n",
    "          fontsize = 25, loc='center left', bbox_to_anchor=(1, 0.5))\n",
    "ax.tick_params(axis = 'both', labelsize = 20);\n",
    "# help from: https://stackoverflow.com/questions/48391146/change-marker-in-the-legend-in-matplotlib"
   ]
  },
  {
   "cell_type": "code",
   "execution_count": null,
   "id": "d10c0da6",
   "metadata": {},
   "outputs": [],
   "source": [
    "pattern2 = r'median'\n",
    "keep = ['workers']\n",
    "\n",
    "for col in years.columns:\n",
    "    if re.search(pattern2,col):\n",
    "        keep.append(col)\n",
    "#end\n",
    "\n",
    "year_ages = years[keep]"
   ]
  },
  {
   "cell_type": "code",
   "execution_count": null,
   "id": "491e1d12",
   "metadata": {},
   "outputs": [],
   "source": [
    "fig, ax = plt.subplots(1, figsize=(20,12))\n",
    "\n",
    "\n",
    "for col in year_ages.columns:\n",
    "    if col != 'workers':\n",
    "        line, = plt.plot(year_ages[col], marker='o', label = str.capitalize(col.replace('_',' ').replace('min','time')),\n",
    "                         linewidth = 3)\n",
    "        plt.legend(handles = [plt.plot([],ls=\"-\", color=line.get_color())[0]],\n",
    "                   labels=[line.get_label()])\n",
    "#end\n",
    "\n",
    "plt.xlabel('Year', size = 20)\n",
    "plt.ylabel('Average Age (years)', size = 20)\n",
    "ax.legend(labels = labels, handles  = \"-\", \n",
    "          fontsize = 25, loc='center left', bbox_to_anchor=(1, 0.5))\n",
    "ax.tick_params(axis = 'both', labelsize = 20);\n",
    "# help from: https://stackoverflow.com/questions/48391146/change-marker-in-the-legend-in-matplotlib"
   ]
  },
  {
   "cell_type": "code",
   "execution_count": null,
   "id": "c5155193",
   "metadata": {},
   "outputs": [],
   "source": [
    "counties = []\n",
    "states = []\n",
    "\n",
    "for county in data.index:\n",
    "    county_name = county.split(', ')[0]\n",
    "    state       = county.split(', ')[1]\n",
    "    counties.append(county_name)\n",
    "    states.append(state)\n",
    "#end"
   ]
  },
  {
   "cell_type": "code",
   "execution_count": null,
   "id": "a0f25130",
   "metadata": {},
   "outputs": [],
   "source": [
    "data['county_name'] = counties\n",
    "data['state'] = states"
   ]
  },
  {
   "cell_type": "code",
   "execution_count": null,
   "id": "2b5c9a73",
   "metadata": {
    "scrolled": true
   },
   "outputs": [],
   "source": [
    "data.insert(len(data.columns)-1, 'state', states)"
   ]
  },
  {
   "cell_type": "code",
   "execution_count": null,
   "id": "af252c90",
   "metadata": {
    "scrolled": true
   },
   "outputs": [],
   "source": [
    "data"
   ]
  },
  {
   "cell_type": "code",
   "execution_count": null,
   "id": "b251c343",
   "metadata": {},
   "outputs": [],
   "source": [
    "data.to_csv('../data/cleaned_data/merged.csv')"
   ]
  },
  {
   "cell_type": "code",
   "execution_count": null,
   "id": "f3a62c24",
   "metadata": {},
   "outputs": [],
   "source": []
  }
 ],
 "metadata": {
  "kernelspec": {
   "display_name": "Python 3 (ipykernel)",
   "language": "python",
   "name": "python3"
  },
  "language_info": {
   "codemirror_mode": {
    "name": "ipython",
    "version": 3
   },
   "file_extension": ".py",
   "mimetype": "text/x-python",
   "name": "python",
   "nbconvert_exporter": "python",
   "pygments_lexer": "ipython3",
   "version": "3.11.4"
  }
 },
 "nbformat": 4,
 "nbformat_minor": 5
}
