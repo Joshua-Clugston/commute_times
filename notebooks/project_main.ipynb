{
 "cells": [
  {
   "cell_type": "code",
   "execution_count": null,
   "id": "b93785bf",
   "metadata": {},
   "outputs": [],
   "source": [
    "import pandas as pd\n",
    "import numpy as np\n",
    "import re\n",
    "import matplotlib.pyplot as plt\n",
    "import seaborn as sns"
   ]
  },
  {
   "cell_type": "code",
   "execution_count": null,
   "id": "3399bb36",
   "metadata": {
    "scrolled": true
   },
   "outputs": [],
   "source": [
    "age  = pd.read_csv('../data/cleaned_data/age.csv')\n",
    "comm = pd.read_csv('../data/cleaned_data/comm.csv')\n",
    "\n",
    "age  = age.set_index('county')\n",
    "comm = comm.set_index('county')"
   ]
  },
  {
   "cell_type": "code",
   "execution_count": null,
   "id": "8c8d2ca3",
   "metadata": {
    "scrolled": true
   },
   "outputs": [],
   "source": [
    "age"
   ]
  },
  {
   "cell_type": "code",
   "execution_count": null,
   "id": "d65992aa",
   "metadata": {
    "scrolled": true
   },
   "outputs": [],
   "source": [
    "comm"
   ]
  },
  {
   "cell_type": "code",
   "execution_count": null,
   "id": "80b429b9",
   "metadata": {},
   "outputs": [],
   "source": [
    "data = pd.merge(comm,age,'outer',on = ['county','workers','drove_alone','carpooled',\n",
    "                                      'pub_transit','state','year'])"
   ]
  },
  {
   "cell_type": "code",
   "execution_count": null,
   "id": "b0c5bca9",
   "metadata": {},
   "outputs": [],
   "source": [
    "data"
   ]
  },
  {
   "cell_type": "code",
   "execution_count": null,
   "id": "e83c2e70",
   "metadata": {},
   "outputs": [],
   "source": [
    "pattern = r'mean'\n",
    "keep = ['workers']\n",
    "for col in data.columns:\n",
    "    if re.search(pattern,col):\n",
    "        keep.append(col)"
   ]
  },
  {
   "cell_type": "code",
   "execution_count": null,
   "id": "022afa38",
   "metadata": {},
   "outputs": [],
   "source": [
    "avg_comm = data[keep].groupby(data.index).mean()\n",
    "avg_comm"
   ]
  },
  {
   "cell_type": "code",
   "execution_count": null,
   "id": "09f213b9",
   "metadata": {},
   "outputs": [],
   "source": [
    "avg_comm.sort_values('mean_min', ascending = False)"
   ]
  },
  {
   "cell_type": "code",
   "execution_count": null,
   "id": "1e2f5e0d",
   "metadata": {},
   "outputs": [],
   "source": [
    "avg_comm.loc[avg_comm['pub_transit_mean_min'] < avg_comm['mean_min']].sort_values('pub_transit_mean_min')"
   ]
  },
  {
   "cell_type": "code",
   "execution_count": null,
   "id": "c6f5d605",
   "metadata": {},
   "outputs": [],
   "source": [
    "comm.loc['Lapeer County, Michigan']"
   ]
  },
  {
   "cell_type": "code",
   "execution_count": null,
   "id": "6df9480d",
   "metadata": {},
   "outputs": [],
   "source": [
    "avg_comm.corr()"
   ]
  },
  {
   "cell_type": "code",
   "execution_count": null,
   "id": "0cecb561",
   "metadata": {},
   "outputs": [],
   "source": [
    "fig, ax = plt.subplots(figsize=(6, 6))\n",
    "\n",
    "corr = avg_comm.corr(numeric_only = True)\n",
    "# create a custom diverging colormap\n",
    "cmap = sns.diverging_palette(220, 10, as_cmap=True)\n",
    "\n",
    "# Generate a mask for the upper triangle (since a correlation matrix is diagonally symmetric)\n",
    "mask = np.zeros_like(corr, dtype=bool)\n",
    "mask[np.triu_indices_from(mask)] = True\n",
    "\n",
    "# Draw the heatmap with the mask and correct aspect ratio\n",
    "sns.heatmap(corr, cmap=cmap, mask = mask, center=.4,\n",
    "            square=True, linewidths=.5, cbar_kws={\"shrink\": .5});"
   ]
  },
  {
   "cell_type": "code",
   "execution_count": null,
   "id": "d68f6b5c",
   "metadata": {},
   "outputs": [],
   "source": []
  }
 ],
 "metadata": {
  "kernelspec": {
   "display_name": "Python 3 (ipykernel)",
   "language": "python",
   "name": "python3"
  },
  "language_info": {
   "codemirror_mode": {
    "name": "ipython",
    "version": 3
   },
   "file_extension": ".py",
   "mimetype": "text/x-python",
   "name": "python",
   "nbconvert_exporter": "python",
   "pygments_lexer": "ipython3",
   "version": "3.11.4"
  }
 },
 "nbformat": 4,
 "nbformat_minor": 5
}
